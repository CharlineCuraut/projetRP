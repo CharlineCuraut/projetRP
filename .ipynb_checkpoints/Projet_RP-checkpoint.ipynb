{
 "cells": [
  {
   "cell_type": "code",
   "execution_count": 2,
   "id": "e5aa6e04",
   "metadata": {},
   "outputs": [],
   "source": [
    "import numpy as np\n",
    "import matplotlib.pyplot as plt\n",
    "from copy import deepcopy\n",
    "from itertools import combinations\n",
    "import sys"
   ]
  },
  {
   "cell_type": "markdown",
   "id": "f24365fc",
   "metadata": {},
   "source": [
    "# Projet RP : Problème d’´equilibage de charge : glouton et recherche locale"
   ]
  },
  {
   "cell_type": "code",
   "execution_count": 3,
   "id": "848f74e7",
   "metadata": {},
   "outputs": [],
   "source": [
    "def genererTaches(nb_taches,dureeMaxTache):\n",
    "    \"\"\" Args :\n",
    "        nb_taches (int) : nombre de taches a repartir\n",
    "        dureeMaxTache (int) : duree maximale d une tache\n",
    "        Return (dict) : dictionnaire qui a chaque cle (id d une tache) associe sa duree\n",
    "    \"\"\"\n",
    "    \n",
    "    dict_taches = dict()\n",
    "    \n",
    "    for i in range(nb_taches):\n",
    "        dict_taches[i] = np.random.randint(1,dureeMaxTache)\n",
    "        \n",
    "    return dict_taches"
   ]
  },
  {
   "cell_type": "code",
   "execution_count": 4,
   "id": "95231d13",
   "metadata": {},
   "outputs": [],
   "source": [
    "def ordonneTaches(dict_taches):\n",
    "    \"\"\" Args :\n",
    "        dict_taches (dict) : dictionnaire qui a chaque cle (id d une tache) associe sa duree\n",
    "        return ([int]) : liste des taches par ordre decroissant de leur duree\n",
    "    \"\"\"\n",
    "    \n",
    "    # on ordonne le dictionnaire par ordre decroissant de ses valeurs\n",
    "    dict_sorted = dict(sorted(dict_taches.items(), key=lambda item: item[1], reverse=True))\n",
    "    \n",
    "    return list(dict_sorted.keys())\n",
    "\n",
    "\n",
    "def getMachineDispo(dict_taches, dict_machines):\n",
    "    \"\"\" Args :\n",
    "        dict_taches (dict) : dictionnaire qui a chaque cle (id d une tache) associe sa duree\n",
    "        dict_machines (dict) : dictionnaire qui a chaque cle (id d une machine) associe deux listes (une pour les taches associees et l autre pour la duree de la tache associee)\n",
    "        Return (int) : le numero de la machine qui tourne le moins longtemps sur toutes les machines du dictionnaire\n",
    "    \"\"\"\n",
    "    \n",
    "    # initialisation du minimum par le maximum possible et init du numero de la machine dispo\n",
    "    mini = sys.float_info.max\n",
    "    machine_mini = 0\n",
    "    \n",
    "    # on parcourt le dictionnaire des machines\n",
    "    for cle, val in dict_machines.items():\n",
    "        # on calcule la somme des durees de chaque machine et on garde dans machine_mini celle \n",
    "        # qui a la duree la moins grande\n",
    "        somme_taches = sum(val[1])\n",
    "        if(mini>somme_taches):\n",
    "            mini = somme_taches\n",
    "            machine_mini = cle\n",
    "            \n",
    "    return machine_mini\n"
   ]
  },
  {
   "cell_type": "markdown",
   "id": "2b523cb4",
   "metadata": {},
   "source": [
    "## I. Algorithme de liste"
   ]
  },
  {
   "cell_type": "code",
   "execution_count": 5,
   "id": "77258155",
   "metadata": {},
   "outputs": [
    {
     "name": "stdout",
     "output_type": "stream",
     "text": [
      "{0: 4, 1: 5, 2: 3, 3: 9, 4: 3}\n",
      "{0: [[0, 4], [4, 3]], 1: [[1], [5]], 2: [[2, 3], [3, 9]]}\n"
     ]
    }
   ],
   "source": [
    "def algoListe(dict_taches, nb_machines, isLPT=False):\n",
    "    \"\"\" Args : \n",
    "        dict_taches (dict) : dictionnaire qui a chaque cle (id d une tache) associe sa duree\n",
    "        nb_machines (int) : nombre de machines total\n",
    "        isLPT (bool) : True si on ordonne la liste des taches au debut de l'algo, False sinon\n",
    "        Return (dict) : dictionnaire qui a chaque cle (id d une machine) associe deux listes (une pour les taches associees et l autre pour la duree de la tache associee)\n",
    "    \"\"\"\n",
    "    # init du dictionnaire de retour\n",
    "    machines = dict()\n",
    "    for i in range(nb_machines):\n",
    "        machines[i] = [[],[]]\n",
    "    \n",
    "    # gerer le cas ou on ordonne la liste des taches\n",
    "    if(isLPT):\n",
    "        liste_priorite = ordonneTaches(dict_taches)\n",
    "    else:\n",
    "        liste_priorite = list(dict_taches.keys())\n",
    "    \n",
    "    # on parcourt la liste des taches et on assigne chaque tache a la premiere machine disponible \n",
    "    for tache_id in liste_priorite:\n",
    "        m = getMachineDispo(dict_taches, machines)\n",
    "        machines[m][0].append(tache_id)\n",
    "        machines[m][1].append(dict_taches[tache_id])\n",
    "        \n",
    "    return machines\n",
    "\n",
    "\n",
    "dict_taches = genererTaches(5, 10)\n",
    "print(dict_taches)\n",
    "\n",
    "# liste = ordonneTaches(dict_taches)\n",
    "# print(liste)\n",
    "\n",
    "machines = algoListe(dict_taches, 3)\n",
    "print(machines)"
   ]
  },
  {
   "cell_type": "markdown",
   "id": "f5287f3c",
   "metadata": {},
   "source": [
    "## II. Algorithme LPT"
   ]
  },
  {
   "cell_type": "code",
   "execution_count": 6,
   "id": "7043c0dc",
   "metadata": {},
   "outputs": [
    {
     "name": "stdout",
     "output_type": "stream",
     "text": [
      "[3, 1, 0, 2, 4]\n",
      "{0: [[3], [9]], 1: [[1, 4], [5, 3]], 2: [[0, 2], [4, 3]]}\n"
     ]
    }
   ],
   "source": [
    "def algoListeLPT(dict_taches, nb_machines):\n",
    "    \"\"\" Args :\n",
    "        dict_taches (dict) : dictionnaire qui a chaque cle (id d une tache) associe sa duree\n",
    "        nb_machines (int) : nombre de machines total\n",
    "        Return (dict) : dictionnaire qui a chaque cle (id d une machine) associe deux listes (une pour les taches associees et l autre pour la duree de la tache associee)\n",
    "    \"\"\"\n",
    "    \n",
    "    return algoListe(dict_taches, nb_machines, True)\n",
    "\n",
    "print(ordonneTaches(dict_taches))\n",
    "machines_LPT = algoListeLPT(dict_taches, 3)\n",
    "print(machines_LPT)"
   ]
  },
  {
   "cell_type": "markdown",
   "id": "81317697",
   "metadata": {},
   "source": [
    "## III. Heuristique de recherche locale pour toutes les combinaisons de types de voisinage et de critère.\n"
   ]
  },
  {
   "cell_type": "code",
   "execution_count": 20,
   "id": "279aedf5",
   "metadata": {},
   "outputs": [
    {
     "name": "stdout",
     "output_type": "stream",
     "text": [
      "{0: [[1], [1]], 1: [[0, 2, 3], [1, 1, 3]]}\n"
     ]
    }
   ],
   "source": [
    "def ordon_alea(dict_taches, nb_machines):\n",
    "    \"\"\" Args :\n",
    "        dict_taches (dict) : dictionnaire qui a chaque cle (id d une tache) associe sa duree\n",
    "        nb_machines (int) : nombre de machines total\n",
    "        Return (dict) : dictionnaire qui a chaque cle (id d une machine) associe deux listes (une pour les taches associees et l autre pour la duree de la tache associee)\n",
    "    \"\"\"\n",
    "    \n",
    "    # init du dictionnaire de retour\n",
    "    machines = dict()\n",
    "    for i in range(nb_machines):\n",
    "        machines[i] = [[],[]]\n",
    "     \n",
    "    # on parcourt les taches et on les insere dans une machine choisit aleatoirement\n",
    "    for id_tache,duree in dict_taches.items():\n",
    "        nb_alea = np.random.randint(nb_machines)\n",
    "        machines[nb_alea][0].append(id_tache)\n",
    "        machines[nb_alea][1].append(duree)\n",
    "    \n",
    "    return machines\n",
    "\n",
    "\n",
    "dict_taches = genererTaches(4, 5)\n",
    "\n",
    "print(ordon_alea(dict_taches, 2))"
   ]
  },
  {
   "cell_type": "code",
   "execution_count": 38,
   "id": "08941b62",
   "metadata": {},
   "outputs": [
    {
     "name": "stdout",
     "output_type": "stream",
     "text": [
      "ordonnancement de départ {0: [[3], [3]], 1: [[0, 1, 2], [1, 1, 1]]}\n",
      "voisinage = \n"
     ]
    },
    {
     "data": {
      "text/plain": [
       "[{0: [[], []], 1: [[0, 1, 2, 3], [1, 1, 1, 3]]},\n",
       " {0: [[3, 0], [3, 1]], 1: [[1, 2], [1, 1]]},\n",
       " {0: [[3, 1], [3, 1]], 1: [[0, 2], [1, 1]]},\n",
       " {0: [[3, 2], [3, 1]], 1: [[0, 1], [1, 1]]}]"
      ]
     },
     "execution_count": 38,
     "metadata": {},
     "output_type": "execute_result"
    }
   ],
   "source": [
    "def insertion(dict_taches, nb_machines, ordon_init):\n",
    "    \"\"\" Args :\n",
    "        dict_taches (dict) : dictionnaire qui a chaque cle (id d une tache) associe sa duree\n",
    "        nb_machines (int) : nombre de machines total\n",
    "        ordon_init (dict) : dictionnaire initial des machines\n",
    "        Return ([dict]) : liste des differents voisinages de ordon_init (sous forme de dict de machines) selon la méthode d'insertion\n",
    "    \"\"\"\n",
    "    \n",
    "    # init de la liste de voisinage\n",
    "    machines = ordon_init\n",
    "    voisinage = []\n",
    "    \n",
    "    # pour chaque machine, on parcourt chacune de ses taches pour les insérer dans chacune des autres machines\n",
    "    for i in range(nb_machines):\n",
    "        for j in range(len(machines[i][0])):\n",
    "            for k in range(nb_machines) :\n",
    "                \n",
    "                # on ne veut pas inserer la tache dans la meme machine (elle y est deja)\n",
    "                if k == i :\n",
    "                    continue\n",
    "                    \n",
    "                # on copie le dictionnaire des machines dans une variable temporaire pour pouvoir le modifier (et construire un voisin)\n",
    "                tmp = deepcopy(machines)\n",
    "                \n",
    "                # deplacement de la tache j de la machine i vers la machine k\n",
    "                id_tache = tmp[i][0][j] \n",
    "                duree = tmp[i][1][j]\n",
    "                \n",
    "                del(tmp[i][0][j])\n",
    "                del(tmp[i][1][j])\n",
    "                \n",
    "                tmp[k][0].append(id_tache)\n",
    "                tmp[k][1].append(duree)\n",
    "                \n",
    "                # ajout du voisin dans la liste de voisinage\n",
    "                voisinage.append(tmp)\n",
    "                \n",
    "    return voisinage\n",
    "\n",
    "ordon_init = ordon_alea(dict_taches, 2)\n",
    "print(\"ordonnancement de départ\", ordon_init)\n",
    "print(\"voisinage = \")\n",
    "insertion(dict_taches, 2, ordon_init)"
   ]
  },
  {
   "cell_type": "code",
   "execution_count": 46,
   "id": "120f29b7",
   "metadata": {},
   "outputs": [
    {
     "name": "stdout",
     "output_type": "stream",
     "text": [
      "ordonnancement de départ {0: [[3], [3]], 1: [[0, 1, 2], [1, 1, 1]]}\n",
      "voisinage = \n"
     ]
    },
    {
     "data": {
      "text/plain": [
       "[{0: [[0], [1]], 1: [[3, 1, 2], [3, 1, 1]]},\n",
       " {0: [[1], [1]], 1: [[0, 3, 2], [1, 3, 1]]},\n",
       " {0: [[2], [1]], 1: [[0, 1, 3], [1, 1, 3]]}]"
      ]
     },
     "execution_count": 46,
     "metadata": {},
     "output_type": "execute_result"
    }
   ],
   "source": [
    "def echange(dict_taches, nb_machines, ordon_init):\n",
    "    \"\"\" Args :\n",
    "        dict_taches (dict) : dictionnaire qui a chaque cle (id d une tache) associe sa duree\n",
    "        nb_machines (int) : nombre de machines total\n",
    "        ordon_init (dict) : dictionnaire initial des machines\n",
    "        Return ([dict]) : liste des differents voisinages de ordon_init (sous forme de dict de machines) selon la methode d echanges\n",
    "    \"\"\"\n",
    "    \n",
    "    # init de la liste de voisinage\n",
    "    machines = ordon_init\n",
    "    voisinage = []\n",
    "    \n",
    "    #Pour chaque machine, on parcourt chacune de ses taches\n",
    "    for i in range(nb_machines):\n",
    "        for j in range(len(machines[i][0])):\n",
    "            # Maintenant qu on a une tache associee a une machine, on parcourt chaque tache d une autre machine qui suit (pour eviter les doublons)\n",
    "            for k in range(i+1, nb_machines) :\n",
    "                for l in range(len(machines[k][0])) :\n",
    "                    \n",
    "                    # on copie le dictionnaire des machines dans une variable temporaire pour pouvoir le modifier (et construire un voisin)\n",
    "                    tmp = deepcopy(machines)\n",
    "                    \n",
    "                    # echange des deux taches j et l entre les machines i et k\n",
    "                    id_tache1 = tmp[i][0][j] \n",
    "                    duree1 = tmp[i][1][j]\n",
    "                \n",
    "                    tmp[i][0][j] = tmp[k][0][l]\n",
    "                    tmp[i][1][j] = tmp[k][1][l]\n",
    "                \n",
    "                    tmp[k][0][l] = id_tache1\n",
    "                    tmp[k][1][l] = duree1\n",
    "                \n",
    "                    # ajout du voisin dans la liste de voisinage\n",
    "                    voisinage.append(tmp)\n",
    "                \n",
    "    return voisinage\n",
    "    \n",
    "print(\"ordonnancement de départ\", ordon_init)\n",
    "print(\"voisinage = \")\n",
    "echange(dict_taches, 2, ordon_init)"
   ]
  },
  {
   "cell_type": "code",
   "execution_count": 64,
   "id": "54adde8f",
   "metadata": {},
   "outputs": [
    {
     "name": "stdout",
     "output_type": "stream",
     "text": [
      "ordonnancement de départ {0: [[2], [1]], 1: [[0], [1]], 2: [[1, 3], [1, 3]]}\n",
      "voisinage = \n"
     ]
    },
    {
     "data": {
      "text/plain": [
       "[{0: [[], []], 1: [[0, 2], [1, 1]], 2: [[1, 3], [1, 3]]},\n",
       " {0: [[0], [1]], 1: [[2], [1]], 2: [[1, 3], [1, 3]]},\n",
       " {0: [[2], [1]], 1: [[0], [1]], 2: [[1, 3], [1, 3]]},\n",
       " {0: [[0, 2], [1, 1]], 1: [[], []], 2: [[1, 3], [1, 3]]},\n",
       " {0: [[], []], 1: [[0], [1]], 2: [[1, 2, 3], [1, 1, 3]]},\n",
       " {0: [[1], [1]], 1: [[0], [1]], 2: [[2, 3], [1, 3]]},\n",
       " {0: [[2], [1]], 1: [[0], [1]], 2: [[1, 3], [1, 3]]},\n",
       " {0: [[3], [3]], 1: [[0], [1]], 2: [[1, 2], [1, 1]]},\n",
       " {0: [[1, 2], [1, 1]], 1: [[0], [1]], 2: [[3], [3]]},\n",
       " {0: [[1, 3], [1, 3]], 1: [[0], [1]], 2: [[2], [1]]},\n",
       " {0: [[2, 3], [1, 3]], 1: [[0], [1]], 2: [[1], [1]]},\n",
       " {0: [[1, 2, 3], [1, 1, 3]], 1: [[0], [1]], 2: [[], []]},\n",
       " {0: [[2], [1]], 1: [[], []], 2: [[0, 1, 3], [1, 1, 3]]},\n",
       " {0: [[2], [1]], 1: [[0], [1]], 2: [[1, 3], [1, 3]]},\n",
       " {0: [[2], [1]], 1: [[1], [1]], 2: [[0, 3], [1, 3]]},\n",
       " {0: [[2], [1]], 1: [[3], [3]], 2: [[0, 1], [1, 1]]},\n",
       " {0: [[2], [1]], 1: [[0, 1], [1, 1]], 2: [[3], [3]]},\n",
       " {0: [[2], [1]], 1: [[0, 3], [1, 3]], 2: [[1], [1]]},\n",
       " {0: [[2], [1]], 1: [[1, 3], [1, 3]], 2: [[0], [1]]},\n",
       " {0: [[2], [1]], 1: [[0, 1, 3], [1, 1, 3]], 2: [[], []]}]"
      ]
     },
     "execution_count": 64,
     "metadata": {},
     "output_type": "execute_result"
    }
   ],
   "source": [
    "def permutation(dict_taches, nb_machines, ordon_init) :\n",
    "    \"\"\" Args :\n",
    "        dict_taches (dict) : dictionnaire qui a chaque cle (id d une tache) associe sa duree\n",
    "        nb_machines (int) : nombre de machines total\n",
    "        ordon_init (dict) : dictionnaire initial des machines\n",
    "        Return ([dict]) : liste des differents voisinages de ordon_init (sous forme de dict de machines) selon la methode de permutation\n",
    "    \"\"\"\n",
    "    \n",
    "    # init de la liste de voisinage\n",
    "    machines = ordon_init\n",
    "    voisinage = []\n",
    "    \n",
    "    # on parcourt les machines pour trouver deux machines i et j\n",
    "    for i in range(nb_machines):\n",
    "        for j in range(i+1, nb_machines):\n",
    "            \n",
    "            # on recupere les listes des taches associees aux deux machines i et j, \n",
    "            # puis on les fusionne pour obtenir tous les sous ensembles possibles\n",
    "            set1 = set(machines[i][0])\n",
    "            set2 = set(machines[j][0])\n",
    "            set_f = set1 | set2\n",
    "            list_subsets = sum(map(lambda r: list(combinations(set_f,r)), range(0, len(set_f)+1)), [])\n",
    "            \n",
    "            # Pour chaque sous ensemble possible, on l'effecte a la premiere machine i  \n",
    "            # et on affecte son complementaire dans la deuxieme machine j\n",
    "            for subset in list_subsets :\n",
    "                tmp = deepcopy(machines)\n",
    "                tmp[i][0] = list(subset)\n",
    "                tmp[j][0] = list(set_f - set(subset))\n",
    "                \n",
    "                tmp[i][1].clear()\n",
    "                tmp[j][1].clear()\n",
    "                \n",
    "                # on recreer la liste des durees associee a la nouvelle liste des taches de la machine\n",
    "                for id_tache in tmp[i][0]:\n",
    "                    tmp[i][1].append(dict_taches[id_tache])\n",
    "                for id_tache in tmp[j][0]:\n",
    "                    tmp[j][1].append(dict_taches[id_tache])\n",
    "                    \n",
    "                # ajout du voisin dans la liste de voisinage\n",
    "                voisinage.append(tmp)\n",
    "                \n",
    "    return voisinage\n",
    "\n",
    "ordon_init = ordon_alea(dict_taches, 3)\n",
    "print(\"ordonnancement de départ\", ordon_init)\n",
    "print(\"voisinage = \")\n",
    "permutation(dict_taches, 3, ordon_init)"
   ]
  },
  {
   "cell_type": "code",
   "execution_count": null,
   "id": "cdb751a6",
   "metadata": {},
   "outputs": [],
   "source": []
  }
 ],
 "metadata": {
  "kernelspec": {
   "display_name": "Python 3",
   "language": "python",
   "name": "python3"
  },
  "language_info": {
   "codemirror_mode": {
    "name": "ipython",
    "version": 3
   },
   "file_extension": ".py",
   "mimetype": "text/x-python",
   "name": "python",
   "nbconvert_exporter": "python",
   "pygments_lexer": "ipython3",
   "version": "3.8.8"
  }
 },
 "nbformat": 4,
 "nbformat_minor": 5
}
