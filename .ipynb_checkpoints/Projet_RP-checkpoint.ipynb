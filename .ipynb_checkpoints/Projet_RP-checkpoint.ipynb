{
 "cells": [
  {
   "cell_type": "code",
   "execution_count": 1,
   "id": "e5aa6e04",
   "metadata": {},
   "outputs": [],
   "source": [
    "import numpy as np\n",
    "import matplotlib.pyplot as plt"
   ]
  },
  {
   "cell_type": "markdown",
   "id": "f24365fc",
   "metadata": {},
   "source": [
    "# Projet RP : Problème d’´equilibage de charge : glouton et recherche locale"
   ]
  },
  {
   "cell_type": "code",
   "execution_count": 39,
   "id": "848f74e7",
   "metadata": {},
   "outputs": [],
   "source": [
    "def genererTaches(nb_taches,dureeMaxTache):\n",
    "    dict_taches = dict()\n",
    "    for i in range(nb_taches):\n",
    "        dict_taches[i] = np.random.randint(1,dureeMaxTache)\n",
    "    return dict_taches"
   ]
  },
  {
   "cell_type": "code",
   "execution_count": 35,
   "id": "95231d13",
   "metadata": {},
   "outputs": [
    {
     "name": "stdout",
     "output_type": "stream",
     "text": [
      "[0, 4, 3, 1, 2]\n"
     ]
    }
   ],
   "source": [
    "def ordonneTaches(dict_taches):\n",
    "    dict_sorted = dict(sorted(dict_taches.items(), key=lambda item: item[1], reverse=True))\n",
    "    return list(dict_sorted.keys())\n",
    "\n",
    "def getMachineDispo(dict_taches, dict_machines):\n",
    "    mini = 1000\n",
    "    machine_mini = 0\n",
    "    for cle, val in dict_machines.items():\n",
    "        somme_taches = sum(val[1])\n",
    "        if(mini>somme_taches):\n",
    "            mini = somme_taches\n",
    "            machine_mini = cle\n",
    "    return machine_mini\n"
   ]
  },
  {
   "cell_type": "markdown",
   "id": "2b523cb4",
   "metadata": {},
   "source": [
    "## I. Algorithme de liste"
   ]
  },
  {
   "cell_type": "code",
   "execution_count": 45,
   "id": "77258155",
   "metadata": {},
   "outputs": [
    {
     "name": "stdout",
     "output_type": "stream",
     "text": [
      "{0: 3, 1: 3, 2: 5, 3: 5, 4: 5}\n",
      "{0: [[0, 3], [3, 5]], 1: [[1, 4], [3, 5]], 2: [[2], [5]]}\n"
     ]
    }
   ],
   "source": [
    "def algoListe(dict_taches, nb_machines, isLPT=False):\n",
    "    machines = dict()\n",
    "    for i in range(nb_machines):\n",
    "        machines[i] = [[],[]]\n",
    "    \n",
    "    if(isLPT):\n",
    "        liste_priorite = ordonneTaches(dict_taches)\n",
    "    else:\n",
    "        liste_priorite = list(dict_taches.keys())\n",
    "    \n",
    "    for tache_id in liste_priorite:\n",
    "        m = getMachineDispo(dict_taches, machines)\n",
    "        machines[m][0].append(tache_id)\n",
    "        machines[m][1].append(dict_taches[tache_id])\n",
    "    return machines\n",
    "\n",
    "dict_taches = genererTaches(5, 10)\n",
    "print(dict_taches)\n",
    "\n",
    "\n",
    "# liste = ordonneTaches(dict_taches)\n",
    "# print(liste)\n",
    "\n",
    "machines = algoListe(dict_taches, 3)\n",
    "print(machines)"
   ]
  },
  {
   "cell_type": "markdown",
   "id": "f5287f3c",
   "metadata": {},
   "source": [
    "## II. Algorithme LPT"
   ]
  },
  {
   "cell_type": "code",
   "execution_count": 48,
   "id": "7043c0dc",
   "metadata": {},
   "outputs": [
    {
     "name": "stdout",
     "output_type": "stream",
     "text": [
      "[2, 3, 4, 0, 1]\n",
      "{0: [[2, 0], [5, 3]], 1: [[3, 1], [5, 3]], 2: [[4], [5]]}\n"
     ]
    }
   ],
   "source": [
    "def algoListeLPT(dict_taches, nb_machines):\n",
    "    return algoListe(dict_taches, nb_machines, True)\n",
    "\n",
    "print(ordonneTaches(dict_taches))\n",
    "machines_LPT = algoListeLPT(dict_taches, 3)\n",
    "print(machines_LPT)"
   ]
  },
  {
   "cell_type": "markdown",
   "id": "81317697",
   "metadata": {},
   "source": [
    "## III. Heuristique de recherche locale pour toutes les combinaisons de types de voisinage et de critère.\n"
   ]
  },
  {
   "cell_type": "code",
   "execution_count": null,
   "id": "279aedf5",
   "metadata": {},
   "outputs": [],
   "source": [
    "def insertion(dict_taches, machines) :\n",
    "    for i in range() :\n",
    "        "
   ]
  }
 ],
 "metadata": {
  "kernelspec": {
   "display_name": "Python 3",
   "language": "python",
   "name": "python3"
  },
  "language_info": {
   "codemirror_mode": {
    "name": "ipython",
    "version": 3
   },
   "file_extension": ".py",
   "mimetype": "text/x-python",
   "name": "python",
   "nbconvert_exporter": "python",
   "pygments_lexer": "ipython3",
   "version": "3.8.8"
  }
 },
 "nbformat": 4,
 "nbformat_minor": 5
}
